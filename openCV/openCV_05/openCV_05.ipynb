{
 "cells": [
  {
   "cell_type": "markdown",
   "metadata": {},
   "source": [
    "# 2부 5. 이미지 변형\n",
    "\n",
    "> 윤세영\n",
    "> p181 ~ p212\n",
    "\n",
    "> 김우준\n",
    "> p212 ~ p239 \n",
    "\n",
    "<br></br>\n",
    "\n",
    "\n",
    "\n",
    "\n",
    "\n",
    "\n",
    ">입력 출력\n",
    ">- 입력은 이미지, 행렬형식으로 넣어준다.\n",
    ">- 변환은 함수를 통해서 하는데 함수가 하는일도 행렬 선형 변환이다.\n",
    ">- 출력되면 바이너리(0,1) 자료형으로 저장된다.\n"
   ]
  },
  {
   "cell_type": "markdown",
   "metadata": {},
   "source": [
    "## OpenCV 소개 및 기본 사용법\n",
    "\n",
    "\n",
    "Q1 : OpenCV를 왜 사용하나?\n",
    "\n",
    "A1 : 이미지를 처리하기 위해 사용함. (이미지를 읽어온다 -> 이미지를 처리한다 -> 다시 저장한다)\n",
    "\n",
    "Q2 : OpenCV 기본 색상은? \n",
    "\n",
    "A2 : BGR\n"
   ]
  },
  {
   "cell_type": "markdown",
   "metadata": {},
   "source": [
    "![](OpenCV/1.PNG)"
   ]
  },
  {
   "cell_type": "markdown",
   "metadata": {},
   "source": [
    "![](OpenCV/2.PNG)"
   ]
  },
  {
   "cell_type": "markdown",
   "metadata": {},
   "source": [
    "![](OpenCV/3.PNG)"
   ]
  },
  {
   "cell_type": "markdown",
   "metadata": {},
   "source": [
    "![](OpenCV/4.PNG)"
   ]
  },
  {
   "cell_type": "markdown",
   "metadata": {},
   "source": [
    "## 목표 : 이미지 데이터에 변형을 주는 연산 설명\n",
    "\n",
    ">전처리 알고리즘 Best 4\n",
    ">\n",
    ">1. 색상 공간 변환\n",
    ">2. 이진화\n",
    ">3. 이미지 연산\n",
    ">4. 흐림효과에 대해 알아봄.\n",
    "\n",
    "- 데이터 변형은 주로 특징을 검출하고 데이터를 해석하기 위한 전처리 과정으로 활용함.\n",
    "- 이미지에는 매우 많은 데이터가 담겨있고, 그에 따라 불필요하고 부정확한 데이터를 정제하는 과정이 필요함.\n",
    "- 전처리를 수행하는 연산은 매우 다양함.\n",
    "- 전처리에서 사용된 연산이 데이터를 해석할 수 도 있고 반대로 데이터를 해석하는 연산 방법이 전처리 과정에서 쓰일 수 있다.\n",
    "\n"
   ]
  },
  {
   "cell_type": "markdown",
   "metadata": {},
   "source": [
    "## 01 색상 공간 변환\n",
    "\n",
    "색상 공간 변환 함수는 데이터타입은 그대로, 유지하고 채널만 변환함.\n"
   ]
  },
  {
   "cell_type": "code",
   "execution_count": null,
   "metadata": {},
   "outputs": [],
   "source": [
    "## 색상 공간 변환 함수\n",
    "\n",
    "dst = cv2.cvtColor(\n",
    "    src,\n",
    "    code,\n",
    "    dstCn = None\n",
    ")"
   ]
  },
  {
   "cell_type": "markdown",
   "metadata": {},
   "source": [
    "- src : 입력 이미지\n",
    "- code : 색상 변환 코드\n",
    "- dst : 출력 이미지\n",
    "- dstCn : 출력 이미지(dst)에 필요한 채널 수를 설정함.\n",
    "\n",
    "<br></br>\n",
    "- 색상 변환 코드를 사용해서 BGR 색상 공간을 RGBA, 그레이스케일, HSV 등 단일 채널, 3채널, 4채널 등의 색상 공간으로 변환이 가능함.\n",
    "\n",
    "- 하지만 BGR과 HSV의 채널 수가 동일해도 표현 색상이 다르므로 데이터의 변형이 일어남.\n",
    "\n",
    "- 출력 채널은 출력 이미지에 필요한 채널 수를 설정함.\n"
   ]
  },
  {
   "cell_type": "markdown",
   "metadata": {},
   "source": [
    "### 1. 다중 채널 색상 이미지에서 다중 채널 색상 이미지(HSV)로 변환\n",
    "\n",
    "- Hue, Saturation, Value\n",
    "    - 색상, 채도, 명도\n",
    "\n",
    "까마귀 원본\n",
    "![까마귀 원본](crow.jpeg)"
   ]
  },
  {
   "cell_type": "code",
   "execution_count": 1,
   "metadata": {},
   "outputs": [],
   "source": [
    "import cv2\n",
    "# import matplotlib.pyplot as plt\n",
    "\n",
    "src = cv2.imread(\"crow.jpeg\")\n",
    "dst = cv2.cvtColor(src, cv2.COLOR_BGR2HSV) # BGR -> HSV로 변환 / BGR 색상 공간을 HSV 색상 공간 상호 변환\n",
    "\n",
    "# fig = plt.figure(num=1, figsize=(4,5))\n",
    "# plt.imshow(dst), plt.title('crow')\n",
    "\n",
    "cv2.imshow(\"dst\", dst) # cv2.imshow() 함수는 기본적으로 BGR의 색상 패턴으로 표현하기에 HSV의 색상 공간은 시각적으로 구분하기 힘듦.\n",
    "cv2.waitKey(0)\n",
    "cv2.destroyAllWindows()"
   ]
  },
  {
   "cell_type": "markdown",
   "metadata": {},
   "source": [
    "![crow](crow.png)"
   ]
  },
  {
   "cell_type": "markdown",
   "metadata": {},
   "source": [
    "## 02. HSV 색상 공간\n",
    "\n",
    "인간이 인지하는 영역의 색상을 잘 나타내는 색상 공간임.\n",
    "\n",
    ">- 색상(Hue) : 시각적 감각의 속성\n",
    ">- 채도(Saturation) : 이미지의 색상 깊이\n",
    ">- 명도(Value) : 색의 밝고 어두운 정도\n",
    "\n",
    "HSV\n",
    "\n",
    "![hsv](hsv.png)\n",
    "\n",
    "\n",
    "Hue 원형 모델처럼 채도와 명도는 선형의 그레디언트 형태로 설정이 간편함.\n",
    "\n",
    "Hue\n",
    "\n",
    "![hue](hue.png)\n",
    "\n",
    "\n",
    "토마토 원본\n",
    "![토마토 원본](tomato.jpeg)"
   ]
  },
  {
   "cell_type": "code",
   "execution_count": 1,
   "metadata": {},
   "outputs": [],
   "source": [
    "import cv2\n",
    "\n",
    "src = cv2.imread(\"tomato.jpeg\")\n",
    "hsv = cv2.cvtColor(src, cv2.COLOR_BGR2HSV)\n",
    "\n",
    "h, s, v = cv2.split(hsv)\n",
    "h_red = cv2.inRange(h, 0, 5) \n",
    "\n",
    "dst = cv2.bitwise_and(hsv, hsv, mask = h_red)\n",
    "dst = cv2.cvtColor(dst, cv2.COLOR_HSV2BGR)\n",
    "\n",
    "cv2.imshow(\"dst\", dst)\n",
    "cv2.waitKey(0)\n",
    "cv2.destroyAllWindows()"
   ]
  },
  {
   "cell_type": "markdown",
   "metadata": {},
   "source": [
    "![](tomato.png)"
   ]
  },
  {
   "cell_type": "markdown",
   "metadata": {},
   "source": [
    "- 위의 예제에서는 HSV 색상 공간에서 채널을 분리해서 빨간색 범위를 갖는 객체만 검출함.\n",
    "\n",
    "- HSV 공간에서 Hue의 공간만 검출했기에 완벽하다고 볼 수 는 없다"
   ]
  },
  {
   "cell_type": "code",
   "execution_count": 2,
   "metadata": {},
   "outputs": [],
   "source": [
    "import cv2\n",
    "\n",
    "src = cv2.imread(\"tomato.jpeg\")\n",
    "hsv = cv2.cvtColor(src, cv2.COLOR_BGR2HSV)\n",
    "\n",
    "h, s, v = cv2.split(hsv)\n",
    "\n",
    "orange = cv2.inRange(hsv, (8, 100, 100), (20, 255, 255))\n",
    "blue = cv2.inRange(hsv, (110, 100, 100), (130, 255, 255))\n",
    "mix_color = cv2.addWeighted(orange, 1.0, blue, 1.0, 0.0)\n",
    "\n",
    "dst = cv2.bitwise_and(hsv, hsv, mask = mix_color)\n",
    "dst = cv2.cvtColor(dst, cv2.COLOR_HSV2BGR)\n",
    "\n",
    "cv2.imshow(\"dst\", dst)\n",
    "cv2.waitKey(0)\n",
    "cv2.destroyAllWindows()"
   ]
  },
  {
   "cell_type": "markdown",
   "metadata": {},
   "source": [
    "![](tomato2.png)"
   ]
  },
  {
   "cell_type": "markdown",
   "metadata": {},
   "source": [
    "- 위의 예제에서는 주황색, 파란색을 검출하여 혼합한 예시다.\n",
    "\n",
    "- HSV의 값을 적절하게 할당하는것은 생각보다 어려운 작업이다.\n",
    "    - 정확한 상수값을 할당해야 함.\n",
    "    - 사람마다 색상을 구분하는 기준이 다름.\n",
    "    - 그래서 색상 표현을 직관적으로 표현한 색상 모델을 따로 사용한다.\n",
    "\n",
    "![](1.png)\n",
    "\n",
    "\n",
    "[ ![HSV_RGB](HSV_RGB.png)](https://www.rapidtables.org/ko/convert/color/hsv-to-rgb.html)"
   ]
  },
  {
   "cell_type": "markdown",
   "metadata": {},
   "source": [
    "## 03 이진화\n",
    "\n",
    "- 영상이나 이미지에서 어느 지점을 기준으로 픽셀을 분류해서 제외해야 할 때가 있다.\n",
    "- 이때 특정 값을 기준으로 값이 높거나 낮은 픽셀을 검은색 또는 흰색의 값으로 변경함.\n",
    "- 즉, 이분법적으로 구분해 픽셀을 참 또는 거짓으로 나누는 연산이며, 이진화라고 한다."
   ]
  },
  {
   "cell_type": "code",
   "execution_count": null,
   "metadata": {},
   "outputs": [],
   "source": [
    "retval, dst = cv2.threshold(\n",
    "    src,\n",
    "    thresh,\n",
    "    maxval,\n",
    "    type\n",
    ")"
   ]
  },
  {
   "cell_type": "markdown",
   "metadata": {},
   "source": [
    "- 이진화 함수는 입력 이미지(src)를 임곗값 형식(type)에 따라 특정한 비교 연산을 진행함.\n",
    "- 임곗값(thresh)보다 낮은 픽셀값은 0이나 원본 픽셀값으로 변경하며, 임곗값(thresh)보다 높은 픽셀값은 최댓값(maxval) 으로 변경한다.\n",
    "- 변형된 이미지는 출력 이미지(dst)에 저장되며, 파이썬 OpenCV에서는 설정 임곗값(retval)도 반환된다.\n",
    "- 일반적으로 이진화 함수는 단일 채널 이미지에서 활용됨.\n",
    "- 다중 채널 이미지에 이진화 함수를 적용할 경우 각 채널을 분리해서 이진화 함수를 적용한 후 이미지를 다시 병합해서 반환함.\n",
    "- 특정 임곗값 형식에서는 단일 채널 이미지만을 지원함.\n",
    "\n",
    "백조 원본\n",
    "![백조 원본](./swan.jpeg)"
   ]
  },
  {
   "cell_type": "code",
   "execution_count": 2,
   "metadata": {},
   "outputs": [],
   "source": [
    "import cv2\n",
    "\n",
    "src = cv2.imread(\"swan.jpeg\")\n",
    "_, binary = cv2.threshold(src, 127, 255, cv2.THRESH_BINARY)\n",
    "# _의 역할이 너무 많다....\n",
    "cv2.imshow(\"binary\", binary)\n",
    "cv2.waitKey(0)\n",
    "cv2.destroyAllWindows()"
   ]
  },
  {
   "cell_type": "markdown",
   "metadata": {},
   "source": [
    "![](swan.png)"
   ]
  },
  {
   "cell_type": "markdown",
   "metadata": {},
   "source": [
    "- 위와 같이 색상이 극단적으로 표현됨.\n",
    "- 특별한 경우가 아닌 이상 다중 채널 이미지에는 이진화 함수를 적용하지 않는다.\n",
    "- 왜죠?\n",
    "    - 채널마다 임곗값을 적용해서 반환하기에 각 채널은 두 종류의 값으로 나뉘는데 다시 병합되어 하나의 이미지로 변하게 되면 활용하기 어려워 지기 때문임."
   ]
  },
  {
   "cell_type": "markdown",
   "metadata": {},
   "source": [
    "### 오츠 알고리즘\n",
    "- 입력된 이미지의 밝기 분포(히스토그램)을 통해 최적의 임곗값을 찾아 이진화를 적용\n",
    "- 가능한 모든 임곗값을 고려해서 이미지 내의 픽셀들을 두 개의 클래스로 분류했을 때 클래스 간의 분산을 최소화 하거나 차이를 최대화 하는 임곗값을 찾는다.\n",
    "\n",
    "### 삼각형 알고리즘\n",
    "- 오츠와 동일하게 이미지의 밝기 분포(히스토그램)을 통해 최적의 임곗값을 찾아 이진화를 적용\n",
    "- 하지만 오츠와는 다르게 모든 임곗값을 대입하지는 않는다.\n",
    "- 히스토그램에서 최대 거리를 구성할 수 있는 임곗값을 찾아 이진화를 적용함.\n",
    "- 최대 거리를 찾는 방법이 히스토그램의 최댓값과 최솟값을 찾아 직각 삼각형으로 만들고, 빗변사이의 거리가 최대일 때 수직인 선이 히스토그램의 최대 거리가 된다.\n",
    "- 즉, 히스토그램에 그려진 선 사이의 거리가 최대인 지역값이 임곗값이 된다.\n",
    "\n",
    "### 적응형 이진화 알고리즘\n",
    "- 입력 이미지에 따라 임곗값이 스스로 다른 값을 할당할 수 있도록 구성된 이진화 알고리즘\n",
    "- 이미지에 따라 어떤 임곗값을 주더라도 이진화 처리가 어려운 경우에 사용.\n",
    "- 조명의 변화나 반사가 심한 경우 이미지 내의 밝기 분포가 달라 국소적으로 임곗값을 적용해야 원하는 결과를 얻을 수 있다."
   ]
  },
  {
   "cell_type": "code",
   "execution_count": null,
   "metadata": {},
   "outputs": [],
   "source": [
    "dst = cv2.adaptiveThreshold(\n",
    "    src,\n",
    "    maxval,\n",
    "    adeptiveMethod,\n",
    "    thresholdType,\n",
    "    blockSize,\n",
    "    C\n",
    ")"
   ]
  },
  {
   "cell_type": "code",
   "execution_count": 1,
   "metadata": {},
   "outputs": [],
   "source": [
    "import cv2\n",
    "\n",
    "src = cv2.imread(\"swan.jpeg\")\n",
    "gray = cv2.cvtColor(src, cv2.COLOR_BGR2GRAY)\n",
    "binary = cv2.adaptiveThreshold(gray, 255, cv2.ADAPTIVE_THRESH_MEAN_C, cv2.THRESH_BINARY, 33, -5)\n",
    "\n",
    "cv2.imshow(\"binary\", binary)\n",
    "cv2.waitKey(0)\n",
    "cv2.destroyAllWindows()"
   ]
  },
  {
   "cell_type": "markdown",
   "metadata": {},
   "source": [
    "![](swan2.png)"
   ]
  },
  {
   "cell_type": "markdown",
   "metadata": {},
   "source": [
    "- 위 예제는 그레이스케일 이미지에 평균 가중치를 적용한 적응형 이진화 예다.\n",
    "- blockSize에 33을 지정해 33X33 크기 내의 영역을 분석 후 적절한 임곗값을 설정함\n",
    "- 상수 C에는 음수 값인 -5를 지정해 전체 영역이 어두워졌다.\n",
    "- 일반적으로 음수 값은 잘 사용하지 않지만 목적에 따라 오히려 더 우수한 결과를 보이기도 한다.\n",
    "- 음수값을 지정할 때는 임곗값 형식에 반전 이진화 플래그를 적용하거나 이미지 반전 연산을 적용하면 됨."
   ]
  },
  {
   "cell_type": "markdown",
   "metadata": {},
   "source": [
    "## 04 이미지 연산"
   ]
  },
  {
   "cell_type": "markdown",
   "metadata": {},
   "source": [
    "fefeaf"
   ]
  },
  {
   "cell_type": "markdown",
   "metadata": {},
   "source": [
    "### 덧셈 함수"
   ]
  },
  {
   "cell_type": "markdown",
   "metadata": {},
   "source": [
    "### 뺄셈 함수"
   ]
  },
  {
   "cell_type": "markdown",
   "metadata": {},
   "source": [
    "### 곱셈 함수"
   ]
  },
  {
   "cell_type": "markdown",
   "metadata": {},
   "source": [
    "### 나눗셈 함수"
   ]
  },
  {
   "cell_type": "markdown",
   "metadata": {},
   "source": [
    "### 최댓값 함수"
   ]
  },
  {
   "cell_type": "markdown",
   "metadata": {},
   "source": [
    "### 최솟값 함수"
   ]
  },
  {
   "cell_type": "markdown",
   "metadata": {},
   "source": [
    "### 최소/최대 위치 반환 함수"
   ]
  },
  {
   "cell_type": "code",
   "execution_count": null,
   "metadata": {},
   "outputs": [],
   "source": [
    "np.minMaxLoc(src1)  # 이부분이 이상하다."
   ]
  },
  {
   "cell_type": "markdown",
   "metadata": {},
   "source": [
    "### 절댓값 함수"
   ]
  },
  {
   "cell_type": "markdown",
   "metadata": {},
   "source": [
    "### 절댓값 차이 함수"
   ]
  },
  {
   "cell_type": "markdown",
   "metadata": {},
   "source": [
    "### 비교 함수"
   ]
  },
  {
   "cell_type": "markdown",
   "metadata": {},
   "source": []
  },
  {
   "cell_type": "markdown",
   "metadata": {},
   "source": [
    "### 선형 방정식 시스템의 해 찾기 함수"
   ]
  },
  {
   "cell_type": "code",
   "execution_count": null,
   "metadata": {},
   "outputs": [],
   "source": [
    "success, dst = sv2.solve(src2,flags=None)"
   ]
  },
  {
   "cell_type": "markdown",
   "metadata": {},
   "source": [
    "### AND 연산 함수"
   ]
  },
  {
   "cell_type": "markdown",
   "metadata": {},
   "source": [
    "### OR 연산 함수"
   ]
  },
  {
   "cell_type": "markdown",
   "metadata": {},
   "source": [
    "### XOR 연산 함수"
   ]
  },
  {
   "cell_type": "markdown",
   "metadata": {},
   "source": [
    "### NOT 연산 함수"
   ]
  },
  {
   "cell_type": "markdown",
   "metadata": {},
   "source": []
  },
  {
   "cell_type": "code",
   "execution_count": null,
   "metadata": {},
   "outputs": [],
   "source": [
    "import cv2\n",
    "import numpy as np\n",
    "\n",
    "src1 = np.array([[9, 2], [1, 1]], dtype=np.double)\n",
    "src2 = np.array([38, 5], dtype=np.double)\n",
    "\n",
    "dst = cv2.solve(src1, src2, flags=cv2.DECOMP_LU)\n",
    "print(dst)"
   ]
  },
  {
   "cell_type": "markdown",
   "metadata": {},
   "source": [
    "# 05 흐림효과"
   ]
  },
  {
   "cell_type": "markdown",
   "metadata": {},
   "source": [
    "ㄹㄷㅁ"
   ]
  },
  {
   "cell_type": "markdown",
   "metadata": {},
   "source": [
    "### 커널과 고정점"
   ]
  },
  {
   "cell_type": "markdown",
   "metadata": {},
   "source": [
    "### 테두리 외삽법"
   ]
  },
  {
   "cell_type": "markdown",
   "metadata": {},
   "source": [
    "### 단순 흐림 효과\n"
   ]
  },
  {
   "cell_type": "code",
   "execution_count": null,
   "metadata": {},
   "outputs": [],
   "source": [
    "50,50을 줘야 효과가 있었다."
   ]
  },
  {
   "cell_type": "markdown",
   "metadata": {},
   "source": [
    "### 박스 필터 흐림 효과"
   ]
  },
  {
   "cell_type": "markdown",
   "metadata": {},
   "source": [
    "### 중간값 흐림 효과"
   ]
  },
  {
   "cell_type": "markdown",
   "metadata": {},
   "source": [
    "### 가우시안 흐림 효과"
   ]
  },
  {
   "cell_type": "markdown",
   "metadata": {},
   "source": [
    "### 양방향 필터 흐림 효과"
   ]
  },
  {
   "cell_type": "code",
   "execution_count": null,
   "metadata": {},
   "outputs": [],
   "source": [
    "import cv2\n",
    "\n",
    "src = cv2.imread(\"crescent.jpg\")\n",
    "\n",
    "dst = cv2.bilateralFilter(src, 100, 33, 11, borderType=cv2.BORDER_ISOLATED)\n",
    "\n",
    "cv2.imshow(\"dst\", dst)\n",
    "cv2.waitKey(0)\n",
    "cv2.destroyAllWindows()"
   ]
  },
  {
   "cell_type": "code",
   "execution_count": null,
   "metadata": {},
   "outputs": [],
   "source": [
    "# 우준님의 이미지 plt 출력 함수화\n",
    "\n",
    "# def show(img):\n",
    "#     plt.imshow(img)\n",
    "#     plt.show()"
   ]
  }
 ],
 "metadata": {
  "interpreter": {
   "hash": "fd14b61d698315bff202d614f44a08f8acfc2caaed3585dd2c4f3b834ee20df7"
  },
  "kernelspec": {
   "display_name": "Python 3.8.11 64-bit ('tf': conda)",
   "language": "python",
   "name": "python3"
  },
  "language_info": {
   "codemirror_mode": {
    "name": "ipython",
    "version": 3
   },
   "file_extension": ".py",
   "mimetype": "text/x-python",
   "name": "python",
   "nbconvert_exporter": "python",
   "pygments_lexer": "ipython3",
   "version": "3.8.11"
  },
  "orig_nbformat": 4
 },
 "nbformat": 4,
 "nbformat_minor": 2
}
